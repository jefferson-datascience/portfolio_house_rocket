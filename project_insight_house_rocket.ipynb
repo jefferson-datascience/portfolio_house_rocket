{
 "cells": [
  {
   "cell_type": "markdown",
   "id": "220a2f1f",
   "metadata": {},
   "source": [
    "# 0.0 - Imports"
   ]
  },
  {
   "cell_type": "code",
   "execution_count": 1,
   "id": "6be73c07",
   "metadata": {
    "ExecuteTime": {
     "end_time": "2023-02-10T15:37:02.003939Z",
     "start_time": "2023-02-10T15:36:57.399549Z"
    }
   },
   "outputs": [],
   "source": [
    "# Bibliotecas\n",
    "import pandas  as pd\n",
    "import numpy   as np\n",
    "import seaborn as sns\n",
    "import geopandas\n",
    "import plotly.express as px\n",
    "\n",
    "from matplotlib import pyplot as plt\n",
    "from IPython.display     import HTML, Image\n",
    "\n",
    "# Formatações Essenciais\n",
    "pd.set_option('display.float_format', lambda x: '%.2f' % x)"
   ]
  },
  {
   "cell_type": "markdown",
   "id": "5807f0be",
   "metadata": {},
   "source": [
    "## 0.1 - Helper Functions"
   ]
  },
  {
   "cell_type": "code",
   "execution_count": 2,
   "id": "a2bf7c5c",
   "metadata": {
    "ExecuteTime": {
     "end_time": "2023-02-10T15:37:02.097253Z",
     "start_time": "2023-02-10T15:37:02.008939Z"
    }
   },
   "outputs": [
    {
     "data": {
      "text/html": [
       "<style>.container {width:93% ! important; }</style>"
      ],
      "text/plain": [
       "<IPython.core.display.HTML object>"
      ]
     },
     "metadata": {},
     "output_type": "display_data"
    }
   ],
   "source": [
    "# --------------------------------- LAYOUT --------------------------------------------------------\n",
    "\n",
    "# Configurações de Layout\n",
    "def jupyter_settings():\n",
    "    %matplotlib inline\n",
    "    #%pylab inline\n",
    "    \n",
    "    plt.style.use('ggplot')\n",
    "    plt.rcParams['figure.figsize'] = (24,9)\n",
    "    plt.rcParams['font.size'] = 24\n",
    "    \n",
    "    display( HTML('<style>.container {width:93% ! important; }</style>') )\n",
    "    pd.options.display.max_columns = None\n",
    "    pd.options.display.max_rows = None\n",
    "    pd.set_option('display.expand_frame_repr', False)\n",
    "    \n",
    "    sns.set()\n",
    "    \n",
    "jupyter_settings()\n",
    "\n",
    "\n",
    "\n",
    "# ---------------------------------  EXTRAÇÃO DAS INFORMÇÕES --------------------------------------\n",
    "\n",
    "# Essa função realização a extração dos dados da máquina\n",
    "def base_de_dados(file):\n",
    "    \n",
    "    return pd.read_csv(file)   \n",
    "    \n",
    "    \n",
    "# -------------------------------- TRANSFORMAÇÃO DOS DADOS  ----------------------------------------\n",
    "\n",
    "\n",
    "# Essa função limpa e organiza os dados que nós precisamos para trabalhar\n",
    "def limpeza_organizacao_dados(dataset):\n",
    "    \n",
    "    # transformação das datas para datetime\n",
    "    dataset['date'] = pd.to_datetime(dataset['date'])\n",
    "    \n",
    "    # Criação da coluna month e vamos preencher somente com os mês e o dia das datas.\n",
    "    data['month'] = pd.to_datetime(data['date']).dt.strftime('%m-%d')\n",
    "    \n",
    "    # transformação das informações da coluna waterfront\n",
    "    dataset['waterfront'] = dataset['waterfront'].apply(lambda x: 'yes' if x == 1 else 'no')\n",
    "    \n",
    "    # criação da coluna seasons\n",
    "    dataset['seasons'] = data['month'].apply(lambda x:'summer' if '06-21' <= x < '09-23' else\n",
    "                                                      'autumn' if '09-23' <= x < '12-21' else\n",
    "                                                      'spring' if '03-20' <= x < '06-21' else 'winter')    \n",
    "    \n",
    "    # criação da coluna onde será informado se a casa será comprada ou  não\n",
    "    data['option_buy'] = 'no_buy'\n",
    "    \n",
    "    # criacao da coluna em que será adicionado a mediana do preços de cada região\n",
    "    data['median_price_zipcode'] = ''\n",
    "    \n",
    "    # Retorno das transformações\n",
    "    return dataset\n",
    "\n",
    "\n",
    "# Essa funcao vai nos agrupar os dados por região, calcular a média dos preços dos imóveis dessas regiões.\n",
    "def media_precos_regiao(dataset):\n",
    "    \n",
    "    # Cálculo da Média\n",
    "    dataframe = dataset[['price', 'zipcode']].groupby('zipcode').median().reset_index()\n",
    "    \n",
    "    # Renomeação das Colunas\n",
    "    dataframe.columns = ['zipcode', 'median_price']\n",
    "    \n",
    "    # ????\n",
    "    for i in range(len(dataframe)):\n",
    "        for j in range(len(dataset)):\n",
    "            if (dataset.loc[j, 'zipcode'] == dataframe.loc[i, 'zipcode']):\n",
    "                dataset.loc[j, 'median_price_zipcode'] = dataframe.loc[i,'median_price'] \n",
    "    \n",
    "    # Retorno das Informações\n",
    "    return dataset, dataframe\n",
    "\n",
    "\n",
    "# Função que realiza a classificaçaõ e não classificação dos imóveis para compra.\n",
    "def classificacao_compra(dataset):\n",
    "    \n",
    "    # Classicação de compra e não compra de imóveis.\n",
    "    dataset['option_buy'] = dataset[['price', 'condition', 'median_price_zipcode']].apply(lambda x: 'buy' if (x['price'] < x['median_price_zipcode']) and (x['condition'] > 2) else 'no_buy', axis=1)\n",
    "    \n",
    "    # Retorno das Classificações\n",
    "    return dataset\n",
    "\n",
    "\n",
    "# Essa função vai nos retornar um dataframe com a media dos preços de cada região durante o verão\n",
    "def media_precos_verao(dataset):\n",
    "    \n",
    "    # selecionar somente os imóveis que tiveram o preço disponibilizado durante o verão\n",
    "    dataset_summer = dataset[dataset['seasons'] == 'summer']\n",
    "    \n",
    "    # agrupar os preços por zipcode e obter a mediana dos preços durante o verão\n",
    "    dataframe_summer = dataset_summer[['price', 'zipcode']].groupby('zipcode').median().reset_index()\n",
    "    \n",
    "    # Renomear coluna\n",
    "    dataframe_summer.columns = ['zipcode', 'median_price_summer']\n",
    "    \n",
    "    # Retorno do DataFrame\n",
    "    return dataframe_summer\n",
    "\n",
    "\n",
    "# Essa função vai nos retornar um dataframe com a media dos preços de cada região durante o inverno \n",
    "def media_precos_inverno(dataset):\n",
    "    \n",
    "    # selecionar somente os imóveis que tiveram os preços disponibilizados durante o inverno\n",
    "    dataset_winter = dataset[dataset['seasons'] == 'winter']\n",
    "    \n",
    "    # agrupar os preços por zipcode e obter a mediana dos preços durante o inverno\n",
    "    dataframe_winter = dataset_winter[['price', 'zipcode']].groupby('zipcode').median().reset_index()\n",
    "    \n",
    "    # Renomear as colunas\n",
    "    dataframe_winter.columns = ['zipcode', 'median_price_winter']\n",
    "    \n",
    "    # Retorno do DataFrame\n",
    "    return dataframe_winter\n",
    "    \n",
    "    \n",
    "# Essa função vai nos retornar um dataframe com a media dos preços de cada região durante o outono    \n",
    "def media_precos_outono(dataset):   \n",
    "    \n",
    "    # selecionar somente os imóveis que tiveram os preços disponibilizados durante o outono\n",
    "    dataset_autumn = dataset[dataset['seasons'] == 'autumn']\n",
    "                                \n",
    "    # agrupar os dados por zipcode e obter a mediana dos preços durante o outono\n",
    "    dataframe_autumn = dataset_autumn[['price', 'zipcode']].groupby('zipcode').median().reset_index()\n",
    "                                \n",
    "    # Renomear as colunas\n",
    "    dataframe_autumn.columns = ['zipcode', 'median_price_autumn']\n",
    "    \n",
    "    # Retorno do DataFrame\n",
    "    return dataframe_autumn\n",
    "\n",
    "                                \n",
    "# Essa função vai nos retornar um dataframe com a media dos preços de cada região durante o primavera       \n",
    "def media_precos_primavera(dataset):\n",
    "    \n",
    "    # selecionar somente os imóveis que tiveram os preços disponibilizados durante a primavera\n",
    "    dataset_spring = dataset[dataset['seasons'] == 'spring']\n",
    "    \n",
    "    # agrupar os preços por zipcode e obter a mediana dos preços durante a primavera\n",
    "    dataframe_spring = dataset_spring[['price', 'zipcode']].groupby('zipcode').median().reset_index()\n",
    "                                \n",
    "    # Renomear as colunas\n",
    "    dataframe_spring.columns = ['zipcode', 'median_price_spring']\n",
    "                                \n",
    "    # Retorno do DataFrame                            \n",
    "    return dataframe_spring\n",
    "    \n",
    "\n",
    "# Essa função vai nos retornar uma dataframe com os preços de vendas por região durante o verão.\n",
    "def vendas_imoveis_verao(dataset, dataframe_summer):\n",
    "    \n",
    "    # vamos criar uma colunas que vai receber o preço de venda das casas durante o verão\n",
    "    dataset['sell_price_summer'] = 0\n",
    "    \n",
    "    # Estrutura que vai estabelecer o preço de venda das casas\n",
    "    for i in range(len(dataframe_summer)):\n",
    "        for j in range(len(dataset)):\n",
    "            if (dataframe_summer.loc[i,'zipcode'] == dataset.loc[j,'zipcode']) and   (dataframe_summer.loc[i,'median_price_summer'] < dataset.loc[j,'price']):\n",
    "                dataset.loc[j, 'sell_price_summer'] = dataset.loc[j, 'price']*1.1\n",
    "                \n",
    "            if (dataframe_summer.loc[i,'zipcode'] == dataset.loc[j,'zipcode']) and (dataframe_summer.loc[i,'median_price_summer'] >= dataset.loc[j,'price']):\n",
    "                dataset.loc[j, 'sell_price_summer'] = dataset.loc[j, 'price']*1.3\n",
    "    \n",
    "    # Retorno das informações\n",
    "    return dataset   \n",
    "\n",
    "\n",
    "# Essa função vai nos retornar uma dataframe com os preços de vendas por região durante o inverno.\n",
    "def vendas_imoveis_inverno(dataset, dataframe_winter):\n",
    "    \n",
    "    # vamos criar uma coluna que vai receber os preços médios de venda dos imoveis durante o inverno.\n",
    "    dataset['sell_price_winter'] = 0\n",
    "    \n",
    "    # estrutura que vai estabelecer o preço de venda das casas\n",
    "    for i in range(len(dataframe_winter)):\n",
    "        for j in range(len(dataset)):\n",
    "            if (dataframe_winter.loc[i, 'zipcode'] == dataset.loc[j, 'zipcode']) and (dataframe_winter.loc[i, 'median_price_winter'] < dataset.loc[j, 'price']):\n",
    "                dataset.loc[j, 'sell_price_winter'] = dataset.loc[j, 'price']*1.1\n",
    "                \n",
    "            if (dataframe_winter.loc[i,'zipcode'] == dataset.loc[j,'zipcode']) and (dataframe_winter.loc[i,'median_price_winter'] >= dataset.loc[j,'price']):\n",
    "                dataset.loc[j, 'sell_price_winter'] = dataset.loc[j, 'price']*1.3\n",
    "    \n",
    "    # Retorno do dataset\n",
    "    return dataset\n",
    "    \n",
    "    \n",
    "# Essa função vai nos retornar uma dataframe com os preços de vendas por região durante o outono.\n",
    "def vendas_imoveis_outono(dataset, dataframe_autumn):\n",
    "    \n",
    "    # vamos criar uma coluna que vai receber os preços médios de venda dos imoveis durante o inverno.\n",
    "    dataset['sell_price_autumn'] = 0\n",
    "    \n",
    "    # estrutura que vai estabelecer o preço de venda das casas\n",
    "    for i in range(len(dataframe_autumn)):\n",
    "        for j in range(len(dataset)):\n",
    "            if (dataframe_autumn.loc[i, 'zipcode'] == dataset.loc[j, 'zipcode']) and (dataframe_autumn.loc[i, 'median_price_autumn'] < dataset.loc[j, 'price']):\n",
    "                dataset.loc[j, 'sell_price_autumn'] = dataset.loc[j, 'price']*1.1\n",
    "                \n",
    "            if (dataframe_autumn.loc[i,'zipcode'] == dataset.loc[j,'zipcode']) and (dataframe_autumn.loc[i,'median_price_autumn'] >= dataset.loc[j,'price']):\n",
    "                dataset.loc[j, 'sell_price_autumn'] = dataset.loc[j, 'price']*1.3\n",
    "    \n",
    "    # Retorno do Dataset\n",
    "    return dataset\n",
    "    \n",
    "\n",
    "# # Essa função vai nos retornar uma dataframe com os preços de vendas por região durante a primavern.\n",
    "def vendas_imoveis_primavera(dataset, dataframe_spring):\n",
    "    \n",
    "    # vamos criar uma coluna que vai receber os preços médios de venda dos imoveis durante o inverno.\n",
    "    dataset['sell_price_spring'] = 0\n",
    "    \n",
    "    # estrutura que vai estabelecer o preço de venda das casas\n",
    "    for i in range(len(dataframe_spring)):\n",
    "        for j in range(len(dataset)):\n",
    "            if (dataframe_spring.loc[i, 'zipcode'] == dataset.loc[j, 'zipcode']) and (dataframe_spring.loc[i, 'median_price_spring'] < dataset.loc[j, 'price']):\n",
    "                dataset.loc[j, 'sell_price_winter'] = dataset.loc[j, 'price']*1.1\n",
    "                \n",
    "            if (dataframe_spring.loc[i,'zipcode'] == dataset.loc[j,'zipcode']) and (dataframe_spring.loc[i,'median_price_spring'] >= dataset.loc[j,'price']):\n",
    "                dataset.loc[j, 'sell_price_spring'] = dataset.loc[j, 'price']*1.3\n",
    "            \n",
    "            \n",
    "    # Retorno do Dataset        \n",
    "    return dataset"
   ]
  },
  {
   "cell_type": "markdown",
   "id": "a35c9668",
   "metadata": {},
   "source": [
    "## 0.2 Carregamento dos Dados"
   ]
  },
  {
   "cell_type": "code",
   "execution_count": 3,
   "id": "c9a1a66c",
   "metadata": {
    "ExecuteTime": {
     "end_time": "2023-02-10T15:37:02.316516Z",
     "start_time": "2023-02-10T15:37:02.100230Z"
    }
   },
   "outputs": [],
   "source": [
    "# Aqui estamos obtendo o nosso conjunto de dados para iniciar o nosso projeto\n",
    "data = base_de_dados('kc_house_data.csv')"
   ]
  },
  {
   "cell_type": "markdown",
   "id": "5a23cd0e",
   "metadata": {},
   "source": [
    "# 1.0 - Descrição dos Dados"
   ]
  },
  {
   "cell_type": "code",
   "execution_count": 4,
   "id": "39d44dd0",
   "metadata": {
    "ExecuteTime": {
     "end_time": "2023-02-10T15:37:02.377521Z",
     "start_time": "2023-02-10T15:37:02.320441Z"
    }
   },
   "outputs": [],
   "source": [
    "df1 = data.copy()"
   ]
  },
  {
   "cell_type": "markdown",
   "id": "03910d9f",
   "metadata": {},
   "source": [
    "## 1.1 - Atributos"
   ]
  },
  {
   "cell_type": "markdown",
   "id": "d0be9888",
   "metadata": {},
   "source": [
    "**id** - Identificador do imóvel.\n",
    "\n",
    "**date** - Data de venda da casa.\n",
    "\n",
    "**price** - Preço que a casa está sendo vendida pelo proprietário.\n",
    "\n",
    "**bedrooms** - Número de quartos.\n",
    "\n",
    "**bathrooms** - Número de banheiro.\n",
    "\n",
    "**sqft_living** - Medida (em pés quadrado) do espaço interior dos apartamentos.\n",
    "\n",
    "**sqft_lot** - Medida (em pés quadrado) quadrada do espaço terrestre.\n",
    "\n",
    "**floors** - Número de andares do imóvel\n",
    "\n",
    "**waterfront** - Variável que indica a presença ou não de vista para água (0 = não e 1 = sim).\n",
    "\n",
    "**view** - Um índice de 0 a 4 que indica a qualidade da vista da propriedade. Varia de 0 a 4, onde: 0 = baixa e 4 = alta.\n",
    "\n",
    "**condition** - Um índice de 1 a 5 que indica a condição da casa. Varia de 1 a 5, onde: 1 = baixo e 5 = alta.\n",
    "\n",
    "**grade** - Um índice de 1 a 13 que indica a construção e o design do edifício. Varia de 1 a 13, onde: 1-3 = baixo, 7 = médio e 11-13 = alta.\n",
    "\n",
    "**sqft_above** - A metragem quadrada do espaço habitacional interior acima do nível do solo. \n",
    "\n",
    "**sqft_basement** - A metragem quadrada do espaço habitacional interior acima do nível do solo.\n",
    "\n",
    "**yr_built** - Ano de construção de cada imóvel.\n",
    "\n",
    "**yr_renovated** - Ano de reforma de cada imóvel.\n",
    "\n",
    "**zipcode** - CEP da casa.\n",
    "\n",
    "**lat** - latitude.\n",
    "\n",
    "**long** - longitude.\n",
    "\n",
    "**sqft_living15** - Medida (em pés quadrado) do espaço interno de habitação para os 15 vizinhos mais próximo\n",
    "\n",
    "**sqft_lot15** - Medida (em pés quadrado) dos lotes de terra dos 15 vizinhos mais próximo"
   ]
  },
  {
   "cell_type": "markdown",
   "id": "3a409a7a",
   "metadata": {},
   "source": [
    "## 1.2 - Dimensão dos Dados "
   ]
  },
  {
   "cell_type": "code",
   "execution_count": 5,
   "id": "7c7383a4",
   "metadata": {
    "ExecuteTime": {
     "end_time": "2023-02-10T15:37:02.516596Z",
     "start_time": "2023-02-10T15:37:02.382444Z"
    }
   },
   "outputs": [
    {
     "name": "stdout",
     "output_type": "stream",
     "text": [
      "Quantidade de Linhas: 21613.\n",
      "Quantidade de Colunas: 21.\n"
     ]
    }
   ],
   "source": [
    "# Verificação da dimensão dos dados.\n",
    "print(f'Quantidade de Linhas: {df1.shape[0]}.')\n",
    "print(f'Quantidade de Colunas: {df1.shape[1]}.')"
   ]
  },
  {
   "cell_type": "markdown",
   "id": "40c689ed",
   "metadata": {},
   "source": [
    "## 1.3 - Checagem dos Valores NA "
   ]
  },
  {
   "cell_type": "code",
   "execution_count": 6,
   "id": "f7ec119b",
   "metadata": {
    "ExecuteTime": {
     "end_time": "2023-02-10T15:37:02.672432Z",
     "start_time": "2023-02-10T15:37:02.521604Z"
    },
    "scrolled": false
   },
   "outputs": [
    {
     "data": {
      "text/plain": [
       "id               0\n",
       "date             0\n",
       "price            0\n",
       "bedrooms         0\n",
       "bathrooms        0\n",
       "sqft_living      0\n",
       "sqft_lot         0\n",
       "floors           0\n",
       "waterfront       0\n",
       "view             0\n",
       "condition        0\n",
       "grade            0\n",
       "sqft_above       2\n",
       "sqft_basement    0\n",
       "yr_built         0\n",
       "yr_renovated     0\n",
       "zipcode          0\n",
       "lat              0\n",
       "long             0\n",
       "sqft_living15    0\n",
       "sqft_lot15       0\n",
       "dtype: int64"
      ]
     },
     "execution_count": 6,
     "metadata": {},
     "output_type": "execute_result"
    }
   ],
   "source": [
    "# Checagem de NA's\n",
    "df1.isna().sum()"
   ]
  },
  {
   "cell_type": "code",
   "execution_count": 7,
   "id": "be8e2921",
   "metadata": {
    "ExecuteTime": {
     "end_time": "2023-02-10T15:37:04.529753Z",
     "start_time": "2023-02-10T15:37:04.497715Z"
    }
   },
   "outputs": [
    {
     "data": {
      "text/plain": [
       "(21611, 21)"
      ]
     },
     "execution_count": 7,
     "metadata": {},
     "output_type": "execute_result"
    }
   ],
   "source": [
    "# Dropando os dois valores NA.\n",
    "df1 = df1.dropna()\n",
    "\n",
    "# Verificaçaõ da Dropagem.\n",
    "df1.shape"
   ]
  },
  {
   "cell_type": "markdown",
   "id": "d0f4fba5",
   "metadata": {
    "heading_collapsed": true
   },
   "source": [
    "## 1.4 - Transformação dos Dados"
   ]
  },
  {
   "cell_type": "code",
   "execution_count": 8,
   "id": "fb675f90",
   "metadata": {
    "ExecuteTime": {
     "end_time": "2023-02-10T15:37:08.661808Z",
     "start_time": "2023-02-10T15:37:08.639411Z"
    },
    "hidden": true
   },
   "outputs": [],
   "source": [
    "# transformação das datas para datetime\n",
    "df1['date'] = pd.to_datetime(df1['date'])\n",
    "\n",
    "# transformação das informações da coluna waterfront\n",
    "df1['waterfront'] = df1['waterfront'].apply(lambda x: 'yes' if x == 1 else 'no')"
   ]
  },
  {
   "cell_type": "markdown",
   "id": "b3afe159",
   "metadata": {
    "heading_collapsed": true
   },
   "source": [
    "# 2.0 - Feature Engineering"
   ]
  },
  {
   "cell_type": "code",
   "execution_count": 9,
   "id": "226e2fd9",
   "metadata": {
    "ExecuteTime": {
     "end_time": "2023-02-10T15:37:09.466388Z",
     "start_time": "2023-02-10T15:37:09.451215Z"
    },
    "hidden": true
   },
   "outputs": [],
   "source": [
    "df2 = df1.copy()"
   ]
  },
  {
   "cell_type": "code",
   "execution_count": 10,
   "id": "f01fdeee",
   "metadata": {
    "ExecuteTime": {
     "end_time": "2023-02-10T15:37:09.930410Z",
     "start_time": "2023-02-10T15:37:09.671835Z"
    },
    "hidden": true
   },
   "outputs": [],
   "source": [
    "# Criação da coluna month e vamos preencher somente com os mês e o dia das datas.\n",
    "df2['month'] = pd.to_datetime(df2['date']).dt.strftime('%m-%d')\n",
    "\n",
    "# criação da coluna seasons para determinar o período de venda da casa.\n",
    "df2['seasons'] = df2['month'].apply(lambda x:'summer' if '06-21' <= x < '09-23' else\n",
    "                                             'autumn' if '09-23' <= x < '12-21' else\n",
    "                                             'spring' if '03-20' <= x < '06-21' else \n",
    "                                             'winter')  \n",
    "\n",
    "# criação da coluna onde será informado se a casa será comprada ou  não\n",
    "df2['option_buy'] = 'no_buy'\n",
    "    \n",
    "# criacao da coluna em que será adicionado a mediana do preços de cada região\n",
    "df2['median_price_zipcode'] = ''"
   ]
  },
  {
   "cell_type": "markdown",
   "id": "9753240c",
   "metadata": {
    "heading_collapsed": true
   },
   "source": [
    "# 3.0 - Análise Exploratória dos Dados"
   ]
  },
  {
   "cell_type": "code",
   "execution_count": 11,
   "id": "6d7c0302",
   "metadata": {
    "ExecuteTime": {
     "end_time": "2023-02-10T15:37:10.318840Z",
     "start_time": "2023-02-10T15:37:10.300971Z"
    },
    "hidden": true
   },
   "outputs": [],
   "source": [
    "df3 = df2.copy()"
   ]
  },
  {
   "cell_type": "markdown",
   "id": "344aa4ba",
   "metadata": {
    "heading_collapsed": true,
    "hidden": true
   },
   "source": [
    "## 3.1 - Mediana dos Preços por Região e Classificação de Compras"
   ]
  },
  {
   "cell_type": "code",
   "execution_count": 12,
   "id": "9e314c7c",
   "metadata": {
    "ExecuteTime": {
     "end_time": "2023-02-10T15:37:11.343723Z",
     "start_time": "2023-02-10T15:37:10.890338Z"
    },
    "hidden": true
   },
   "outputs": [],
   "source": [
    "# Cálculo da Média dos precos por Região\n",
    "preco_medio_regiao = df3[['price', 'zipcode']].groupby('zipcode').median().reset_index()\n",
    "\n",
    "# Armazenamento dos dados para mapeamento.\n",
    "mapemento_zipcode_price = dict(preco_medio_regiao.to_numpy())\n",
    "\n",
    "# Mapeamento e preenchimento.\n",
    "df3['median_price_zipcode'] = df3['zipcode'].map(mapemento_zipcode_price)\n",
    "\n",
    "\n",
    "# ----------------- Classificaçaõ: condition >= 3 e preço de compra menor que a mediana dos preços ----------------------\n",
    "\n",
    "# Classicação de compra e não compra de imóveis\n",
    "df3['option_buy'] = df3[['price', 'condition', 'median_price_zipcode']].apply(lambda x: 'buy' if (x['price'] < x['median_price_zipcode']) and (x['condition'] > 2) else 'no_buy', axis=1)"
   ]
  },
  {
   "cell_type": "markdown",
   "id": "fb29b490",
   "metadata": {
    "heading_collapsed": true,
    "hidden": true
   },
   "source": [
    "## 3.2 - Mediana dos Preços por Sazonalidade"
   ]
  },
  {
   "cell_type": "markdown",
   "id": "20916029",
   "metadata": {
    "heading_collapsed": true,
    "hidden": true
   },
   "source": [
    "### Verão"
   ]
  },
  {
   "cell_type": "code",
   "execution_count": 13,
   "id": "fc86c71f",
   "metadata": {
    "ExecuteTime": {
     "end_time": "2023-02-10T15:37:12.238436Z",
     "start_time": "2023-02-10T15:37:12.220496Z"
    },
    "hidden": true
   },
   "outputs": [],
   "source": [
    "# selecionar somente os imóveis que tiveram o preço disponibilizado durante o verão\n",
    "dataset_imoveis_summer = df3[df3['seasons'] == 'summer'].copy()\n",
    "    \n",
    "# agrupar os preços por zipcode e obter a mediana dos preços durante o verão\n",
    "preco_mediano_imoveis_summer = dataset_imoveis_summer[['price', 'zipcode']].groupby('zipcode').median().reset_index()\n",
    "    \n",
    "# Renomear coluna\n",
    "preco_mediano_imoveis_summer.columns = ['zipcode', 'median_price_summer']"
   ]
  },
  {
   "cell_type": "markdown",
   "id": "a35a368e",
   "metadata": {
    "heading_collapsed": true,
    "hidden": true
   },
   "source": [
    "### Inverno"
   ]
  },
  {
   "cell_type": "code",
   "execution_count": 14,
   "id": "6435315f",
   "metadata": {
    "ExecuteTime": {
     "end_time": "2023-02-10T15:37:13.717027Z",
     "start_time": "2023-02-10T15:37:13.698431Z"
    },
    "hidden": true
   },
   "outputs": [],
   "source": [
    "# selecionar somente os imóveis que tiveram o preço disponibilizado durante o verão\n",
    "dataset_imoveis_winter = df3[df3['seasons'] == 'winter'].copy()\n",
    "    \n",
    "# agrupar os preços por zipcode e obter a mediana dos preços durante o verão\n",
    "preco_mediano_imoveis_winter = dataset_imoveis_winter[['price', 'zipcode']].groupby('zipcode').median().reset_index()\n",
    "    \n",
    "# Renomear coluna\n",
    "preco_mediano_imoveis_winter.columns = ['zipcode', 'median_price_winter']"
   ]
  },
  {
   "cell_type": "markdown",
   "id": "77ee22db",
   "metadata": {
    "heading_collapsed": true,
    "hidden": true
   },
   "source": [
    "### Outono"
   ]
  },
  {
   "cell_type": "code",
   "execution_count": 15,
   "id": "09127ca3",
   "metadata": {
    "ExecuteTime": {
     "end_time": "2023-02-10T15:37:15.488701Z",
     "start_time": "2023-02-10T15:37:15.472441Z"
    },
    "hidden": true
   },
   "outputs": [],
   "source": [
    "# selecionar somente os imóveis que tiveram o preço disponibilizado durante o verão\n",
    "dataset_imoveis_autmumn = df3[df3['seasons'] == 'autmumn'].copy()\n",
    "    \n",
    "# agrupar os preços por zipcode e obter a mediana dos preços durante o verão\n",
    "preco_mediano_imoveis_autmumn = dataset_imoveis_autmumn[['price', 'zipcode']].groupby('zipcode').median().reset_index()\n",
    "    \n",
    "# Renomear coluna\n",
    "preco_mediano_imoveis_autmumn.columns = ['zipcode', 'median_price_autmumn']"
   ]
  },
  {
   "cell_type": "markdown",
   "id": "020d519c",
   "metadata": {
    "heading_collapsed": true,
    "hidden": true
   },
   "source": [
    "### Primavera"
   ]
  },
  {
   "cell_type": "code",
   "execution_count": 16,
   "id": "c726c0af",
   "metadata": {
    "ExecuteTime": {
     "end_time": "2023-02-10T15:37:16.350637Z",
     "start_time": "2023-02-10T15:37:16.322400Z"
    },
    "hidden": true
   },
   "outputs": [],
   "source": [
    "# selecionar somente os imóveis que tiveram o preço disponibilizado durante o verão\n",
    "dataset_imoveis_spring = df3[df3['seasons'] == 'spring'].copy()\n",
    "    \n",
    "# agrupar os preços por zipcode e obter a mediana dos preços durante o verão\n",
    "preco_mediano_imoveis_spring = dataset_imoveis_spring[['price', 'zipcode']].groupby('zipcode').median().reset_index()\n",
    "    \n",
    "# Renomear coluna\n",
    "preco_mediano_imoveis_spring.columns = ['zipcode', 'median_price_spring']"
   ]
  },
  {
   "cell_type": "markdown",
   "id": "8b35db8b",
   "metadata": {
    "heading_collapsed": true,
    "hidden": true
   },
   "source": [
    "## 3.3 - Precificação dos Imóveis por Sazonalidade"
   ]
  },
  {
   "cell_type": "code",
   "execution_count": 17,
   "id": "39d00b8a",
   "metadata": {
    "ExecuteTime": {
     "end_time": "2023-02-10T15:37:17.157469Z",
     "start_time": "2023-02-10T15:37:17.135417Z"
    },
    "hidden": true
   },
   "outputs": [],
   "source": [
    "# Seleção dos imóveis a serem compradas com as determinadas condições consideradas\n",
    "dataset_compra_de_imoveis = df3[df3['option_buy'] == 'buy'].reset_index(drop=True).copy()"
   ]
  },
  {
   "cell_type": "markdown",
   "id": "13105f88",
   "metadata": {
    "heading_collapsed": true,
    "hidden": true
   },
   "source": [
    "### Preço de Vendas - Verão"
   ]
  },
  {
   "cell_type": "code",
   "execution_count": 18,
   "id": "4a20237b",
   "metadata": {
    "ExecuteTime": {
     "end_time": "2023-02-10T15:37:19.129264Z",
     "start_time": "2023-02-10T15:37:17.689720Z"
    },
    "hidden": true
   },
   "outputs": [],
   "source": [
    "# Armazenamento dos preços mediano do verão para Mapeamento.\n",
    "mapeamento_zipcode_price_summer = dict(preco_mediano_imoveis_summer.to_numpy())\n",
    "\n",
    "# Dataset que vai armazenar os preços dos imóveis com o preço de verão.\n",
    "dataset_venda_de_imoveis_summer = dataset_compra_de_imoveis.copy()\n",
    "\n",
    "# mapeamento dos preços do verão por região\n",
    "dataset_venda_de_imoveis_summer['median_price_zipcode_summer'] = dataset_venda_de_imoveis_summer['zipcode'].map(mapeamento_zipcode_price_summer)\n",
    "\n",
    "\n",
    "#  ------------------- Loop para precificação ----------------------------------\n",
    "\n",
    "# vamos criar uma colunas que vai receber o preço de venda das casas durante o verão\n",
    "dataset_venda_de_imoveis_summer['sell_price_summer'] = 0\n",
    "\n",
    "for j in range(len(dataset_venda_de_imoveis_summer)):\n",
    "    if dataset_venda_de_imoveis_summer.loc[j,'median_price_zipcode_summer'] <= dataset_venda_de_imoveis_summer.loc[j,'price']:\n",
    "        dataset_venda_de_imoveis_summer.loc[j, 'sell_price_summer'] = dataset_venda_de_imoveis_summer.loc[j, 'price']*1.1\n",
    "    else:\n",
    "        dataset_venda_de_imoveis_summer.loc[j, 'sell_price_summer'] = dataset_venda_de_imoveis_summer.loc[j, 'price']*1.3"
   ]
  },
  {
   "cell_type": "markdown",
   "id": "22f38b21",
   "metadata": {
    "heading_collapsed": true,
    "hidden": true
   },
   "source": [
    "### Preço de Vendas - Inverno"
   ]
  },
  {
   "cell_type": "code",
   "execution_count": 19,
   "id": "01891d95",
   "metadata": {
    "ExecuteTime": {
     "end_time": "2023-02-10T15:37:20.544538Z",
     "start_time": "2023-02-10T15:37:19.134457Z"
    },
    "hidden": true
   },
   "outputs": [],
   "source": [
    "# Armazenamento dos preços mediano do verão para Mapeamento.\n",
    "mapeamento_zipcode_price_winter = dict(preco_mediano_imoveis_winter.to_numpy())\n",
    "\n",
    "# Dataset que vai armazenar os preços dos imóveis com o preço de verão.\n",
    "dataset_venda_de_imoveis_winter = dataset_compra_de_imoveis.copy()\n",
    "\n",
    "# mapeamento dos preços do verão por região\n",
    "dataset_venda_de_imoveis_winter['median_price_zipcode_winter'] = dataset_venda_de_imoveis_winter['zipcode'].map(mapeamento_zipcode_price_winter)\n",
    "\n",
    "\n",
    "#  ------------------- Loop para precificação ----------------------------------\n",
    "\n",
    "# vamos criar uma colunas que vai receber o preço de venda das casas durante o verão\n",
    "dataset_venda_de_imoveis_winter['sell_price_winter'] = 0\n",
    "\n",
    "for j in range(len(dataset_venda_de_imoveis_winter)):\n",
    "    if dataset_venda_de_imoveis_winter.loc[j,'median_price_zipcode_winter'] <= dataset_venda_de_imoveis_winter.loc[j,'price']:\n",
    "        dataset_venda_de_imoveis_winter.loc[j, 'sell_price_winter'] = dataset_venda_de_imoveis_winter.loc[j, 'price']*1.1\n",
    "    else:\n",
    "        dataset_venda_de_imoveis_winter.loc[j, 'sell_price_winter'] = dataset_venda_de_imoveis_winter.loc[j, 'price']*1.3"
   ]
  },
  {
   "cell_type": "markdown",
   "id": "7da8d389",
   "metadata": {
    "heading_collapsed": true,
    "hidden": true
   },
   "source": [
    "### Preço de Vendas - Outono"
   ]
  },
  {
   "cell_type": "code",
   "execution_count": 20,
   "id": "37d6d513",
   "metadata": {
    "ExecuteTime": {
     "end_time": "2023-02-10T15:37:22.029792Z",
     "start_time": "2023-02-10T15:37:20.547420Z"
    },
    "hidden": true
   },
   "outputs": [],
   "source": [
    "# Armazenamento dos preços mediano do verão para Mapeamento.\n",
    "mapeamento_zipcode_price_autmumn = dict(preco_mediano_imoveis_autmumn.to_numpy())\n",
    "\n",
    "# Dataset que vai armazenar os preços dos imóveis com o preço de verão.\n",
    "dataset_venda_de_imoveis_autmumn = dataset_compra_de_imoveis.copy()\n",
    "\n",
    "# mapeamento dos preços do verão por região\n",
    "dataset_venda_de_imoveis_autmumn['median_price_zipcode_autmumn'] = dataset_venda_de_imoveis_autmumn['zipcode'].map(mapeamento_zipcode_price_autmumn)\n",
    "\n",
    "\n",
    "#  ------------------- Loop para precificação ----------------------------------\n",
    "\n",
    "# vamos criar uma colunas que vai receber o preço de venda das casas durante o verão\n",
    "dataset_venda_de_imoveis_autmumn['sell_price_autmumn'] = 0\n",
    "\n",
    "for j in range(len(dataset_venda_de_imoveis_autmumn)):\n",
    "    if dataset_venda_de_imoveis_autmumn.loc[j,'median_price_zipcode_autmumn'] <= dataset_venda_de_imoveis_autmumn.loc[j,'price']:\n",
    "        dataset_venda_de_imoveis_autmumn.loc[j, 'sell_price_autmumn'] = dataset_venda_de_imoveis_autmumn.loc[j, 'price']*1.1\n",
    "    else:\n",
    "        dataset_venda_de_imoveis_autmumn.loc[j, 'sell_price_autmumn'] = dataset_venda_de_imoveis_autmumn.loc[j, 'price']*1.3"
   ]
  },
  {
   "cell_type": "markdown",
   "id": "3ff2397c",
   "metadata": {
    "heading_collapsed": true,
    "hidden": true
   },
   "source": [
    "### Preço de Vendas - Primavera"
   ]
  },
  {
   "cell_type": "code",
   "execution_count": 21,
   "id": "9e442781",
   "metadata": {
    "ExecuteTime": {
     "end_time": "2023-02-10T15:37:23.518264Z",
     "start_time": "2023-02-10T15:37:22.033560Z"
    },
    "hidden": true
   },
   "outputs": [],
   "source": [
    "# Armazenamento dos preços mediano do verão para Mapeamento.\n",
    "mapeamento_zipcode_price_spring = dict(preco_mediano_imoveis_spring.to_numpy())\n",
    "\n",
    "# Dataset que vai armazenar os preços dos imóveis com o preço de verão.\n",
    "dataset_venda_de_imoveis_spring = dataset_compra_de_imoveis.copy()\n",
    "\n",
    "# mapeamento dos preços do verão por região\n",
    "dataset_venda_de_imoveis_spring['median_price_zipcode_spring'] = dataset_venda_de_imoveis_spring['zipcode'].map(mapeamento_zipcode_price_autmumn)\n",
    "\n",
    "\n",
    "#  ------------------- Loop para precificação ----------------------------------------------\n",
    "\n",
    "\n",
    "# vamos criar uma colunas que vai receber o preço de venda das casas durante o verão\n",
    "dataset_venda_de_imoveis_spring['sell_price_spring'] = 0\n",
    "\n",
    "for j in range(len(dataset_venda_de_imoveis_spring)):\n",
    "    if dataset_venda_de_imoveis_spring.loc[j,'median_price_zipcode_spring'] <= dataset_venda_de_imoveis_spring.loc[j,'price']:\n",
    "        dataset_venda_de_imoveis_spring.loc[j, 'sell_price_spring'] = dataset_venda_de_imoveis_spring.loc[j, 'price']*1.1\n",
    "    else:\n",
    "        dataset_venda_de_imoveis_spring.loc[j, 'sell_price_spring'] = dataset_venda_de_imoveis_spring.loc[j, 'price']*1.3"
   ]
  },
  {
   "cell_type": "markdown",
   "id": "c6be2d96",
   "metadata": {
    "ExecuteTime": {
     "end_time": "2023-02-03T16:57:32.495448Z",
     "start_time": "2023-02-03T16:57:32.484508Z"
    },
    "heading_collapsed": true
   },
   "source": [
    "# 4.0 - Respondendo as Questões as Hipóteses de Negócio"
   ]
  },
  {
   "cell_type": "markdown",
   "id": "0f5a04e0",
   "metadata": {
    "hidden": true
   },
   "source": [
    "## 4.1 - Respondendo as Hipóteses de negócio"
   ]
  },
  {
   "cell_type": "markdown",
   "id": "8dab8e16",
   "metadata": {
    "heading_collapsed": true,
    "hidden": true
   },
   "source": [
    "##### Afirmação 1: Imóveis que possuem vista para água são 30% mais caros, na média em relação aos imóveis  sem vista para água."
   ]
  },
  {
   "cell_type": "code",
   "execution_count": 22,
   "id": "68681e16",
   "metadata": {
    "ExecuteTime": {
     "end_time": "2023-02-10T15:37:23.815267Z",
     "start_time": "2023-02-10T15:37:23.521315Z"
    },
    "hidden": true
   },
   "outputs": [
    {
     "name": "stdout",
     "output_type": "stream",
     "text": [
      "Em geral essa afirmação é falsa. A mediana dos preços é de R$ 450000.0. Além disso, conseguimos observar que Imóveis com vista para a água possuem um preço mediano de R$ 1400000.0, logo, concluímos que imóveis com vista para água são, na média, 300% mais caro. Logo, o insight gerado aqui é: Imóveis com vista para a água são uma ótima opção de investimento.\n"
     ]
    },
    {
     "data": {
      "image/png": "[encoded data removed]",
      "text/plain": [
       "<Figure size 1728x648 with 1 Axes>"
      ]
     },
     "metadata": {},
     "output_type": "display_data"
    }
   ],
   "source": [
    "# Agrupamento dos Dados\n",
    "df_hipotese1 = df3[['price', 'waterfront']].groupby('waterfront').median().reset_index()\n",
    "\n",
    "# Plotagem dos Gráficos\n",
    "grafico_hipotese1 = sns.barplot(x='waterfront', y='price', data= df_hipotese1)\n",
    "\n",
    "# Configuração de Legendas\n",
    "plt.xlabel('Apartamento com Vista para Água')\n",
    "plt.ylabel('Preço Mediano - Escala de 1.000.000')\n",
    "plt.title('Preço Mediano: Apartamento com Vista Para Água x Apartamento sem Vista Para Água')\n",
    "\n",
    "print(f'Em geral essa afirmação é falsa. A mediana dos preços é de R$ {df3[\"price\"].median()}. Além disso, conseguimos observar que Imóveis com vista para a água possuem um preço mediano de R$ {df_hipotese1.loc[1][\"price\"]}, logo, concluímos que imóveis com vista para água são, na média, 300% mais caro. Logo, o insight gerado aqui é: Imóveis com vista para a água são uma ótima opção de investimento.') "
   ]
  },
  {
   "cell_type": "markdown",
   "id": "2d11e5a6",
   "metadata": {
    "heading_collapsed": true,
    "hidden": true
   },
   "source": [
    "##### Afirmação 2: Imóveis com data de construção menor que 1955 são 50% mais baratos, na média, em relação a imóveis com construção maior que 1955."
   ]
  },
  {
   "cell_type": "code",
   "execution_count": 23,
   "id": "6e21ac57",
   "metadata": {
    "ExecuteTime": {
     "end_time": "2023-02-10T15:37:24.045327Z",
     "start_time": "2023-02-10T15:37:23.822539Z"
    },
    "hidden": true
   },
   "outputs": [
    {
     "name": "stdout",
     "output_type": "stream",
     "text": [
      "Em geral essa afirmação é falsa. Em termos de ano de construção, ela possuem a mediana de preço praticamente iguais.\n",
      "Uma vez que a mediana dos preços é de R$ 450000.0, imóveis com ano de construção menor que 1955 possuem uma mediana de preços de R$452000.0 e imóveis com ano de construção maior que 1955 possuem uma mediana de preços de R$ 450000.0\n"
     ]
    },
    {
     "data": {
      "image/png": "[encoded data removed]",
      "text/plain": [
       "<Figure size 1728x648 with 1 Axes>"
      ]
     },
     "metadata": {},
     "output_type": "display_data"
    }
   ],
   "source": [
    "# Agrupamento dos Dados\n",
    "df_hipotese2 = df3.copy()\n",
    "\n",
    "# Reajuste dos Dados\n",
    "df_hipotese2['Year Built'] = df_hipotese2['yr_built'].apply(lambda x: 'Ano de Construção < 1955' if x < 1955 else 'Ano de Construção >= 1995')\n",
    "\n",
    "# Agrupamento dos Dados\n",
    "df_hipotese2 = df_hipotese2[['price', 'Year Built']].groupby( 'Year Built').median().reset_index()\n",
    "\n",
    "# Construção do Gráfico\n",
    "graphics_hipotese_2 = sns.barplot(data=df_hipotese2, \n",
    "                                  x = 'Year Built' , \n",
    "                                  y = 'price');\n",
    "\n",
    "# Rótulos\n",
    "plt.xlabel('Ano de Construção')\n",
    "plt.ylabel('Preço Mediano - Escala de 1 Milhão')\n",
    "plt.title('Preço Mediano de Imóveis com ano de construção < 1955 x Preço Mediano de Imóveis com ano de construção >= 1955')\n",
    "\n",
    "print(f'Em geral essa afirmação é falsa. Em termos de ano de construção, ela possuem a mediana de preço praticamente iguais.') \n",
    "print(f'Uma vez que a mediana dos preços é de R$ {df3[\"price\"].median()}, imóveis com ano de construção menor que 1955 possuem uma mediana de preços de R${df_hipotese2.loc[0][\"price\"]} e imóveis com ano de construção maior que 1955 possuem uma mediana de preços de R$ {df_hipotese2.loc[1][\"price\"]}')"
   ]
  },
  {
   "cell_type": "markdown",
   "id": "683765f1",
   "metadata": {
    "heading_collapsed": true,
    "hidden": true
   },
   "source": [
    "##### Afirmação 3: Imóveis com porão são 50% mais caros na média."
   ]
  },
  {
   "cell_type": "code",
   "execution_count": 24,
   "id": "940b0d9d",
   "metadata": {
    "ExecuteTime": {
     "end_time": "2023-02-10T15:37:24.844409Z",
     "start_time": "2023-02-10T15:37:24.638727Z"
    },
    "hidden": true
   },
   "outputs": [
    {
     "name": "stdout",
     "output_type": "stream",
     "text": [
      "Essa afirmação é falsa. Observe que o preço mediano dos imóveis é R$ 450000.0, todavia o preço mediano dos imóveis sem porão é de R$ 411500.0 e o preço mediano  dos imóveis com porão R$ 515000.0. O interessante é que conseguimos extrair um insight relevante: Imóveis com porão é uma boa opção de negócio, uma vez que o seu valor é, na média, R$ 100.000,00 mais caro.\n"
     ]
    },
    {
     "data": {
      "image/png": "[encoded data removed]",
      "text/plain": [
       "<Figure size 1728x648 with 1 Axes>"
      ]
     },
     "metadata": {},
     "output_type": "display_data"
    }
   ],
   "source": [
    "df_hipotese3 = df3.copy()\n",
    "\n",
    "# Agrupamento\n",
    "df_hipotese3['basement'] = df3['sqft_basement'].apply(lambda x: 'Sim' if x > 0 else 'Não')\n",
    "\n",
    "# Obtendo os dados para a construção do gráfico\n",
    "df_hipotese3 = df_hipotese3[['price', 'basement']].groupby('basement').median().reset_index()\n",
    "\n",
    "# plotando o gráfico\n",
    "graphics_hipotese_3 = sns.barplot(x='basement', y='price', data=df_hipotese3)\n",
    "\n",
    "# Rótulos\n",
    "plt.xlabel('Imóveis com Porão')\n",
    "plt.ylabel('Preço Mediano')\n",
    "plt.title('Preco Mediano de Imóveis com Porão x Preco Mediano de Imóveis sem Porão');\n",
    "\n",
    "print(f'Essa afirmação é falsa. Observe que o preço mediano dos imóveis é R$ {df3[\"price\"].median()}, todavia o preço mediano dos imóveis sem porão é de R$ {df_hipotese3.iloc[0][\"price\"]} e o preço mediano  dos imóveis com porão R$ {df_hipotese3.iloc[1][\"price\"]}. O interessante é que conseguimos extrair um insight relevante: Imóveis com porão é uma boa opção de negócio, uma vez que o seu valor é, na média, R$ 100.000,00 mais caro.')"
   ]
  },
  {
   "cell_type": "markdown",
   "id": "19a2520b",
   "metadata": {
    "heading_collapsed": true,
    "hidden": true
   },
   "source": [
    "##### Afirmação 4: Imóveis com mais de 2 pisos são em média, 40 % mais caros."
   ]
  },
  {
   "cell_type": "code",
   "execution_count": 25,
   "id": "3063b636",
   "metadata": {
    "ExecuteTime": {
     "end_time": "2023-02-10T15:37:25.747657Z",
     "start_time": "2023-02-10T15:37:25.526227Z"
    },
    "hidden": true
   },
   "outputs": [
    {
     "name": "stdout",
     "output_type": "stream",
     "text": [
      "Essa afirmação é falsa. Observe que o preço mediano dos imóveis é R$ 450000.0, todavia o preço mediano dos imóveis com mais de dois andares é de R$ 527600.0 e o preço mediano  dos imóveis com menos de dois andares R$ 449950.0. O interessante é que conseguimos extrair um insight relevante: Imóveis com mais de dois andares é uma boa opção de negócio, uma vez que o seu valor é, na média, R$ 80.000,00 mais caro.\n"
     ]
    },
    {
     "data": {
      "image/png": "[encoded data removed]",
      "text/plain": [
       "<Figure size 1728x648 with 1 Axes>"
      ]
     },
     "metadata": {},
     "output_type": "display_data"
    }
   ],
   "source": [
    "# Carregamento dos Dados\n",
    "df_hipotese4 = df3.copy()\n",
    "\n",
    "# Ajuste das Variáves\n",
    "df_hipotese4['floors']=df_hipotese4['floors'].apply(lambda x: 'Mais de dois andares' if x > 2 else 'Menos de dois andares')\n",
    "\n",
    "# Agrupamento dos Dados\n",
    "df_hipotese4 = df_hipotese4[['price', 'floors']].groupby(['floors']).median().reset_index() \n",
    "\n",
    "# Construção do Gráfico\n",
    "graphics_hipotese_4 = sns.barplot(x='floors',\n",
    "                                  y ='price',\n",
    "                                  data=df_hipotese4)\n",
    "\n",
    "# Rótulos\n",
    "plt.xlabel('Imóveis')\n",
    "plt.ylabel('Preço Mediano')\n",
    "plt.title('Preco Mediano de Imóveis com mais de dois andares x Preco Mediano de Imóveis com menos');\n",
    "\n",
    "print(f'Essa afirmação é falsa. Observe que o preço mediano dos imóveis é R$ {df3[\"price\"].median()}, todavia o preço mediano dos imóveis com mais de dois andares é de R$ {df_hipotese4.iloc[0][\"price\"]} e o preço mediano  dos imóveis com menos de dois andares R$ {df_hipotese4.iloc[1][\"price\"]}. O interessante é que conseguimos extrair um insight relevante: Imóveis com mais de dois andares é uma boa opção de negócio, uma vez que o seu valor é, na média, R$ 80.000,00 mais caro.')"
   ]
  },
  {
   "cell_type": "markdown",
   "id": "a2d642c3",
   "metadata": {
    "heading_collapsed": true,
    "hidden": true
   },
   "source": [
    "##### Afirmação 5:  Imóveis com condições abaixo de 3 são, na média, 35% mais baratos."
   ]
  },
  {
   "cell_type": "code",
   "execution_count": 26,
   "id": "d26d9be5",
   "metadata": {
    "ExecuteTime": {
     "end_time": "2023-02-10T15:37:26.361267Z",
     "start_time": "2023-02-10T15:37:26.152617Z"
    },
    "hidden": true
   },
   "outputs": [
    {
     "name": "stdout",
     "output_type": "stream",
     "text": [
      "Essa afirmação é verdadeira. Observe que o preço mediano dos imóveis é R$ 450000.0, todavia o preço mediano dos imóveis com condição abaixo  de 3 é de R$ 277000.0 e o preço mediano  dos imóveis com menos de dois andares R$ 451000.0. O interessante é que conseguimos extrair um insight relevante: Imóveis com condições abaixo de 3 podem ser um boa opção de negócio, uma vez que o seu valor é, na média, R$ 150.000,00 mais barato que a média do preço geral.\n"
     ]
    },
    {
     "data": {
      "image/png": "[encoded data removed]",
      "text/plain": [
       "<Figure size 1728x648 with 1 Axes>"
      ]
     },
     "metadata": {},
     "output_type": "display_data"
    }
   ],
   "source": [
    "# Carregamento dos Dados\n",
    "df_hipotese5 = df3.copy()\n",
    "\n",
    "# Ajuste dos Dados\n",
    "df_hipotese5['condition'] = df_hipotese5['condition'].apply(lambda x: 'condicao < 3' if x < 3 else 'condição >= 3')\n",
    "\n",
    "# Agrupamento dos Dados\n",
    "df_hipotese5 = df_hipotese5[['price', 'condition']].groupby('condition').median().reset_index()\n",
    "\n",
    "# Construção dos Gráficos\n",
    "graphics_hipotese_5 = sns.barplot(x='condition', y='price', data=df_hipotese5)\n",
    "\n",
    "# Rótulos\n",
    "plt.xlabel('Imóveis')\n",
    "plt.ylabel('Preço Mediano')\n",
    "plt.title('Preco Mediano de Imóveis com condição < 3 x Preco Mediano de Imóveis com condição >= 3');\n",
    "\n",
    "print(f'Essa afirmação é verdadeira. Observe que o preço mediano dos imóveis é R$ {df3[\"price\"].median()}, todavia o preço mediano dos imóveis com condição abaixo  de 3 é de R$ {df_hipotese5.iloc[0][\"price\"]} e o preço mediano  dos imóveis com condição maior ou igual a 3 é de R$ {df_hipotese5.iloc[1][\"price\"]}. O interessante é que conseguimos extrair um insight relevante: Imóveis com condições abaixo de 3 podem ser um boa opção de negócio, uma vez que o seu valor é, na média, R$ 150.000,00 mais barato que a média do preço geral.')"
   ]
  },
  {
   "cell_type": "markdown",
   "id": "90e3dbf1",
   "metadata": {
    "heading_collapsed": true,
    "hidden": true
   },
   "source": [
    "## 4.2 - Respondendo as Questões de Negócios"
   ]
  },
  {
   "cell_type": "markdown",
   "id": "005222aa",
   "metadata": {
    "heading_collapsed": true,
    "hidden": true
   },
   "source": [
    "### **1.** Quais são os imóveis que a House Rocket deveria comprar e por qual preço?"
   ]
  },
  {
   "cell_type": "markdown",
   "id": "bf6971b3",
   "metadata": {
    "hidden": true
   },
   "source": [
    "Os melhores imóveis para compra estão salvos em um arquivo .csv nomeado recomendacao_compras.csv"
   ]
  },
  {
   "cell_type": "markdown",
   "id": "a7b2af14",
   "metadata": {
    "heading_collapsed": true,
    "hidden": true
   },
   "source": [
    "#### Relatório com os imóveis com melhor recomendação de compra"
   ]
  },
  {
   "cell_type": "code",
   "execution_count": 27,
   "id": "823ef27d",
   "metadata": {
    "ExecuteTime": {
     "end_time": "2023-02-10T15:37:29.447295Z",
     "start_time": "2023-02-10T15:37:29.143691Z"
    },
    "hidden": true
   },
   "outputs": [],
   "source": [
    "# ----------------------- Geração de Relatório com os Melhores Imóveis de Compra ---------------------------------------\n",
    "\n",
    "# Removendo dados desnecessários\n",
    "dataset_compra_de_imoveis = dataset_compra_de_imoveis.drop(columns=['seasons', 'median_price_zipcode', 'month'])\n",
    "\n",
    "# Salvando os dados com as recomendações de compras\n",
    "dataset_compra_de_imoveis.to_csv('recomendacao_compras.csv', index=False)"
   ]
  },
  {
   "cell_type": "markdown",
   "id": "04fc9ff5",
   "metadata": {
    "heading_collapsed": true,
    "hidden": true
   },
   "source": [
    "### 2. Uma vez a casa comprada, qual o melhor momento para vendê-las e por qual preço?"
   ]
  },
  {
   "cell_type": "markdown",
   "id": "38bee6bd",
   "metadata": {
    "hidden": true
   },
   "source": [
    "Determinamos que o melhor momento para se vender a casa seria por sazonalinade, isto é, determinado pelos quatro climas do ano. A determinação do preço ficou da seguinte forma:\n",
    "\n",
    "- Se o preço de compra do imóvel é menor que o preço mediano geral, considerando a estação do ano, então o preço de venda é o preço de compra + 30%.\n",
    "- Se o preço de compra do imóvel é maior que o preço mediano geral, considerando a estação do ano, então o preço de venda é o preço de compra + 10%.\n",
    "\n",
    "Os preços estipulados de acordo com a estação podem ser encontrados nos arquivos  preco_vendas_verao.csv, preco_vendas_inverno.csv, preco_vendas_outono.csv, preco_vendas_primavera.csv."
   ]
  },
  {
   "cell_type": "markdown",
   "id": "655d1e08",
   "metadata": {
    "heading_collapsed": true,
    "hidden": true
   },
   "source": [
    "#### Relatório com os preços de vendas"
   ]
  },
  {
   "cell_type": "code",
   "execution_count": 28,
   "id": "76f2aca3",
   "metadata": {
    "ExecuteTime": {
     "end_time": "2023-02-10T15:37:33.561602Z",
     "start_time": "2023-02-10T15:37:32.600615Z"
    },
    "hidden": true
   },
   "outputs": [],
   "source": [
    "#----------------------- Geração de Relatório com os Preços de Vendas de Acordo com a Sazonalidade -------------------------\n",
    "\n",
    "#  VERÃO\n",
    "\n",
    "# Dropagem da Coluna Desnecessária.\n",
    "dataset_venda_de_imoveis_summer = dataset_venda_de_imoveis_summer.drop(columns=['median_price_zipcode_summer', 'median_price_zipcode', 'seasons', 'option_buy', 'month'])\n",
    "\n",
    "# Salvando os preços de Vendas \n",
    "dataset_venda_de_imoveis_summer.to_csv('preco_vendas_verao.csv', index=False)\n",
    "\n",
    "#  INVERNO\n",
    "\n",
    "# Dropagem da Coluna Desnecessária.\n",
    "dataset_venda_de_imoveis_winter = dataset_venda_de_imoveis_winter.drop(columns=['median_price_zipcode_winter', 'median_price_zipcode', 'seasons', 'option_buy', 'month'])\n",
    "\n",
    "# Salvando os preços de Vendas \n",
    "dataset_venda_de_imoveis_winter.to_csv('preco_vendas_inverno.csv', index=False)\n",
    "\n",
    "#  OUTONO\n",
    "\n",
    "# Dropagem da Coluna Desnecessária.\n",
    "dataset_venda_de_imoveis_autmumn = dataset_venda_de_imoveis_autmumn.drop(columns=['median_price_zipcode_autmumn', 'median_price_zipcode', 'seasons', 'option_buy', 'month'])\n",
    "\n",
    "# Salvando os preços de Vendas \n",
    "dataset_venda_de_imoveis_autmumn.to_csv('preco_vendas_outono.csv', index=False)\n",
    "\n",
    "#  PRIMAVERA\n",
    "\n",
    "# Dropagem da Coluna Desnecessária.\n",
    "dataset_venda_de_imoveis_spring = dataset_venda_de_imoveis_spring.drop(columns=['median_price_zipcode_spring', 'median_price_zipcode', 'seasons', 'option_buy', 'month'])\n",
    "\n",
    "# Salvando os preços de Vendas \n",
    "dataset_venda_de_imoveis_spring.to_csv('preco_vendas_primavera.csv', index=False)"
   ]
  },
  {
   "cell_type": "markdown",
   "id": "5cba8280",
   "metadata": {
    "heading_collapsed": true
   },
   "source": [
    "# 5.0 - Desempenho de Negócio"
   ]
  },
  {
   "cell_type": "code",
   "execution_count": 29,
   "id": "dc8433e2",
   "metadata": {
    "ExecuteTime": {
     "end_time": "2023-02-10T15:37:34.056449Z",
     "start_time": "2023-02-10T15:37:34.043445Z"
    },
    "hidden": true
   },
   "outputs": [],
   "source": [
    "# -------------------------- CUSTO --------------------------------------\n",
    "\n",
    "# Custo de Aquisição\n",
    "custo_aquisicao = dataset_compra_de_imoveis['price'].sum()\n",
    "\n",
    "\n",
    "#---------------------------- FATURAMENTO -----------------------------------------\n",
    "\n",
    "\n",
    "# Faturamento Esperado Verão\n",
    "faturamento_verao = dataset_venda_de_imoveis_summer['sell_price_summer'].sum()\n",
    "\n",
    "# Faturamento Esperado Inverno\n",
    "faturamento_inverno = dataset_venda_de_imoveis_winter['sell_price_winter'].sum()\n",
    "\n",
    "# Faturamento Esperado Primavera\n",
    "faturamento_primavera = dataset_venda_de_imoveis_spring['sell_price_spring'].sum()\n",
    "\n",
    "# Faturamento Esperado Outono\n",
    "faturamento_outono = dataset_venda_de_imoveis_autmumn['sell_price_autmumn'].sum()\n",
    "\n",
    "\n",
    "# ------------------------ LUCRO ESTIMADO --------------------------------------------\n",
    "\n",
    "\n",
    "# Lucro Esperado Verão\n",
    "lucro_verao = faturamento_verao - custo_aquisicao\n",
    "\n",
    "# lucro esperado inverno\n",
    "lucro_inverno = faturamento_inverno - custo_aquisicao\n",
    "\n",
    "# lucro esperado outono\n",
    "lucro_outono = faturamento_outono - custo_aquisicao\n",
    "\n",
    "# lucro esperado primavera\n",
    "lucro_primavera = faturamento_primavera - custo_aquisicao"
   ]
  },
  {
   "cell_type": "markdown",
   "id": "47413a40",
   "metadata": {
    "heading_collapsed": true,
    "hidden": true
   },
   "source": [
    "## Tabela de Desempenho"
   ]
  },
  {
   "cell_type": "code",
   "execution_count": 31,
   "id": "b0ee1e84",
   "metadata": {
    "ExecuteTime": {
     "end_time": "2023-02-10T15:30:26.130997Z",
     "start_time": "2023-02-10T15:30:25.758693Z"
    },
    "hidden": true,
    "scrolled": true
   },
   "outputs": [
    {
     "data": {
      "text/html": [
       "<div>\n",
       "<style scoped>\n",
       "    .dataframe tbody tr th:only-of-type {\n",
       "        vertical-align: middle;\n",
       "    }\n",
       "\n",
       "    .dataframe tbody tr th {\n",
       "        vertical-align: top;\n",
       "    }\n",
       "\n",
       "    .dataframe thead th {\n",
       "        text-align: right;\n",
       "    }\n",
       "</style>\n",
       "<table border=\"1\" class=\"dataframe\">\n",
       "  <thead>\n",
       "    <tr style=\"text-align: right;\">\n",
       "      <th></th>\n",
       "      <th>Faturamento Esperado</th>\n",
       "      <th>Custo de Aquisição</th>\n",
       "      <th>Lucro Esperado</th>\n",
       "    </tr>\n",
       "  </thead>\n",
       "  <tbody>\n",
       "    <tr>\n",
       "      <th>verão</th>\n",
       "      <td>5275707909.80</td>\n",
       "      <td>4093727008.00</td>\n",
       "      <td>1181980901.80</td>\n",
       "    </tr>\n",
       "    <tr>\n",
       "      <th>primavera</th>\n",
       "      <td>5321845110.40</td>\n",
       "      <td>4093727008.00</td>\n",
       "      <td>1228118102.40</td>\n",
       "    </tr>\n",
       "    <tr>\n",
       "      <th>outono</th>\n",
       "      <td>5321845110.40</td>\n",
       "      <td>4093727008.00</td>\n",
       "      <td>1228118102.40</td>\n",
       "    </tr>\n",
       "    <tr>\n",
       "      <th>inverno</th>\n",
       "      <td>5275318811.00</td>\n",
       "      <td>4093727008.00</td>\n",
       "      <td>1181591803.00</td>\n",
       "    </tr>\n",
       "  </tbody>\n",
       "</table>\n",
       "</div>"
      ],
      "text/plain": [
       "           Faturamento Esperado  Custo de Aquisição  Lucro Esperado\n",
       "verão             5275707909.80       4093727008.00   1181980901.80\n",
       "primavera         5321845110.40       4093727008.00   1228118102.40\n",
       "outono            5321845110.40       4093727008.00   1228118102.40\n",
       "inverno           5275318811.00       4093727008.00   1181591803.00"
      ]
     },
     "execution_count": 31,
     "metadata": {},
     "output_type": "execute_result"
    }
   ],
   "source": [
    "pd.DataFrame({'Faturamento Esperado': [faturamento_verao, faturamento_primavera, faturamento_outono, faturamento_inverno], \n",
    "              'Custo de Aquisição': [custo_aquisicao, custo_aquisicao, custo_aquisicao, custo_aquisicao], \n",
    "              'Lucro Esperado':[lucro_verao, lucro_primavera, lucro_outono, lucro_inverno]}, index=['verão', 'primavera', 'outono', 'inverno'])"
   ]
  }
 ],
 "metadata": {
  "kernelspec": {
   "display_name": "Python 3 (ipykernel)",
   "language": "python",
   "name": "python3"
  },
  "language_info": {
   "codemirror_mode": {
    "name": "ipython",
    "version": 3
   },
   "file_extension": ".py",
   "mimetype": "text/x-python",
   "name": "python",
   "nbconvert_exporter": "python",
   "pygments_lexer": "ipython3",
   "version": "3.9.12"
  }
 },
 "nbformat": 4,
 "nbformat_minor": 5
}
