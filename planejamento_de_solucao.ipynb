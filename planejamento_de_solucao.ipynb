{
 "cells": [
  {
   "cell_type": "markdown",
   "id": "685f0b38",
   "metadata": {
    "heading_collapsed": true
   },
   "source": [
    "## Planejamento IoT"
   ]
  },
  {
   "cell_type": "markdown",
   "id": "086a11c8",
   "metadata": {
    "heading_collapsed": true,
    "hidden": true
   },
   "source": [
    "### Input"
   ]
  },
  {
   "cell_type": "markdown",
   "id": "5ae90ebb",
   "metadata": {
    "ExecuteTime": {
     "end_time": "2023-02-03T11:32:17.666448Z",
     "start_time": "2023-02-03T11:32:17.662459Z"
    },
    "heading_collapsed": true,
    "hidden": true
   },
   "source": [
    "#### Problema de Negócio"
   ]
  },
  {
   "cell_type": "markdown",
   "id": "bcca2966",
   "metadata": {
    "hidden": true
   },
   "source": [
    "A empresa House Rocket é uma empresa do ramo imobiliária em que a sua atividade é a compra de imóveis abaixo do preço de mercado e, que após reformá-las, revende esses imóveis com preços compatíveis com o mercado. Dessa forma, o lucro da empresa vem da diferença entre o preço da revenda e compra. Dessa maneira, a empresa procura os melhores imóveis para obter os melhores negócios para que se tenha a maior lucratividade possível. Para ajudar nessa busca, o CEO da empresa procurou um Cientista de Dados."
   ]
  },
  {
   "cell_type": "markdown",
   "id": "58d37f65",
   "metadata": {
    "heading_collapsed": true,
    "hidden": true
   },
   "source": [
    "#### Questões de Negócio"
   ]
  },
  {
   "cell_type": "markdown",
   "id": "e3d5d20e",
   "metadata": {
    "hidden": true
   },
   "source": [
    "1.) Quais são os imóveis que a House Rocket deveria comprar e por qual preço?\n",
    "\n",
    "2.) Uma vez a casa comprada, qual o melhor momento para vendê-las e por qual preço?"
   ]
  },
  {
   "cell_type": "markdown",
   "id": "1ffb36a5",
   "metadata": {
    "heading_collapsed": true,
    "hidden": true
   },
   "source": [
    "#### Fonte de Dados"
   ]
  },
  {
   "cell_type": "markdown",
   "id": "ac2fb343",
   "metadata": {
    "hidden": true
   },
   "source": [
    "- Os dados estão no site do Kaggle (https://www.kaggle.com/harlfoxem/housesalesprediction)\n"
   ]
  },
  {
   "cell_type": "markdown",
   "id": "15d9a202",
   "metadata": {
    "heading_collapsed": true,
    "hidden": true
   },
   "source": [
    "### OutPut"
   ]
  },
  {
   "cell_type": "markdown",
   "id": "262dd342",
   "metadata": {
    "hidden": true
   },
   "source": [
    "#### Entrega"
   ]
  },
  {
   "cell_type": "markdown",
   "id": "d010a2cf",
   "metadata": {
    "ExecuteTime": {
     "end_time": "2023-02-03T11:37:17.272358Z",
     "start_time": "2023-02-03T11:37:17.256404Z"
    },
    "hidden": true
   },
   "source": [
    "- Um arquivo .csv com a recomendação de quais imóveis a serem comprados.\n",
    "- Um arquivo .csv com as sugestões de venda de um apartamento por um valor recomendado.\n",
    "\n",
    "- Além disso, para otimizar o processo de consulta a essas informações e agilizar o processo de tomada de decisão, foi construído um Dashboard no Streamlit, de tal modo que essas informações pode ser acessadas de qualquer lugar bastando apenas ter um dispositivo móvel em mãos e Internet."
   ]
  },
  {
   "cell_type": "markdown",
   "id": "0620b387",
   "metadata": {
    "heading_collapsed": true,
    "hidden": true
   },
   "source": [
    "### Tasks"
   ]
  },
  {
   "cell_type": "markdown",
   "id": "ac071d13",
   "metadata": {
    "hidden": true
   },
   "source": [
    "1. Quais são os imóveis que a House Rocket deveria comprar e por qual preço?\n",
    "   \n",
    "**PLANO:**\n",
    "- Coletar os dados\n",
    "- Limpá-los e organizá-los;\n",
    "- Agrupar os imóveis por ZIPCODE;\n",
    "- Em cada região, encontar a mediana dos preços;\n",
    "- Sugerir como compra os imóveis de cada região que estão abaixo do preço mediano e estejam em boas condições.\n",
    "           \n",
    "\n",
    "2. Uma vez a casa comprada, qual o melhor momento para vendê-las e por qual preço?\n",
    "**PLANO:**\n",
    "   - Agrupar os imóveis por ZIPCODE e por sazonalidade;\n",
    "   - Dentro de cada região e sazonalidade, calcular a mediana do preco.\n",
    "   - Condiçõesde venda:\n",
    "        1. Se o preço da compra for maior que a mediana da região + sazonalidade -> O preço da venda será igual ao preço da compra + 10%;\n",
    "        2. 1. Se o preço da compra for menor que a mediana da região + sazonalidade -> O preço da venda será igual ao preço da compra + 30%;"
   ]
  }
 ],
 "metadata": {
  "kernelspec": {
   "display_name": "Python 3 (ipykernel)",
   "language": "python",
   "name": "python3"
  },
  "language_info": {
   "codemirror_mode": {
    "name": "ipython",
    "version": 3
   },
   "file_extension": ".py",
   "mimetype": "text/x-python",
   "name": "python",
   "nbconvert_exporter": "python",
   "pygments_lexer": "ipython3",
   "version": "3.9.12"
  }
 },
 "nbformat": 4,
 "nbformat_minor": 5
}
